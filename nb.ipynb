{
 "cells": [
  {
   "cell_type": "code",
   "execution_count": 15,
   "metadata": {
    "collapsed": false
   },
   "outputs": [
    {
     "name": "stdout",
     "output_type": "stream",
     "text": [
      "What words would you like to search for?\n",
      "bitcoin\n",
      "How many tweets would you like me to filter through?\n",
      "100\n",
      "How many days of tweets would you like, counting backwards from today?\n",
      "(1 = just today. 2 = yesterday and today, etc.)\n",
      "1\n",
      "Working on it...\n",
      "Reading from file:\n",
      "\n",
      "b'\\xe0\\xb9\\x80\\xe0\\xb8\\x9e\\xe0\\xb8\\xa3\\xe0\\xb8\\xb2\\xe0\\xb8\\xb0 Bitcoin Future \\xe0\\xb8\\x88\\xe0\\xb8\\xb0\\xe0\\xb9\\x80\\xe0\\xb8\\x9b\\xe0\\xb8\\xb4\\xe0\\xb8\\x94 \\xe0\\xb9\\x83\\xe0\\xb8\\x99 CBOE \\xe0\\xb9\\x83\\xe0\\xb8\\x99\\xe0\\xb8\\xa7\\xe0\\xb8\\xb1\\xe0\\xb8\\x99\\xe0\\xb8\\x99\\xe0\\xb8\\xb5\\xe0\\xb9\\x89 (\\xe0\\xb8\\x95\\xe0\\xb8\\xb2\\xe0\\xb8\\xa1\\xe0\\xb8\\x84\\xe0\\xb8\\xb2\\xe0\\xb8\\x94)'\n",
      "\n",
      "b'What the fuck is bitcoin'\n",
      "\n",
      "b'Bitcoin Futures Top $18,000, Soar 20% From Open - Halted for Second Time\\n\\nhttp://www.zerohedge.com/news/2017-12-10/cboe-website-crashes-futures-trading-begins-bitcoin-price-squeezed-10-higher\\xc2\\xa0\\xe2\\x80\\xa6pic.twitter.com/l72ZwwX2MJ'\n",
      "\n"
     ]
    }
   ],
   "source": [
    "from twitterscraper import query_tweets\n",
    "import datetime\n",
    "\n",
    "def main():\n",
    "    keyword = input(\"What words would you like to search for?\\n\")\n",
    "    number = int(input(\"How many tweets would you like me to filter through?\\n\"))\n",
    "    days= int(input(\"How many days of tweets would you like, counting backwards from today?\\n(1 = just today. 2 = yesterday and today, etc.)\\n\"))\n",
    "\n",
    "    now = datetime.datetime.now()\n",
    "    if days == 1:\n",
    "        date = \"%20since%3A{}-{}-{}\".format(now.year,now.month,now.day)\n",
    "        query = keyword + date\n",
    "    else:\n",
    "        if int(now.day) - days > 0:\n",
    "            date = '%20since%3A{}-{}-{}%20until%3A{}-{}-{}'.format(now.year,now.month,str(int(now.day-1)),now.year,now.month,now.day)\n",
    "            query = keyword + date\n",
    "        else:\n",
    "            print(\"Sorry I can't go back that far... yet.\")\n",
    "    print('Working on it...')\n",
    "    list_of_tweets = query_tweets(query, number)\n",
    "    file = open(\"tweet_json.txt\",\"w\")\n",
    "    for tweet in list_of_tweets:\n",
    "        if int(tweet.likes) > 1:\n",
    "            mystr = str(tweet.text.encode('utf-8'))\n",
    "            file.write(mystr + '\\n')\n",
    "        elif int(tweet.retweets) > 1:\n",
    "            mystr = str(tweet.text.encode('utf-8'))\n",
    "            file.write(mystr + '\\n')\n",
    "        elif int(tweet.replies) > 1:\n",
    "            mystr = str(tweet.text.encode('utf-8'))\n",
    "            file.write(mystr + '\\n')\n",
    "    file.close()\n",
    "    with open(\"tweet_json.txt\",\"r\") as f:\n",
    "        print(\"Reading from file:\\n\")\n",
    "        for line in f:\n",
    "            print(line)\n",
    "    \n",
    "if __name__ == \"__main__\":\n",
    "    main()"
   ]
  },
  {
   "cell_type": "code",
   "execution_count": null,
   "metadata": {
    "collapsed": true
   },
   "outputs": [],
   "source": []
  }
 ],
 "metadata": {
  "kernelspec": {
   "display_name": "Python 3",
   "language": "python",
   "name": "python3"
  },
  "language_info": {
   "codemirror_mode": {
    "name": "ipython",
    "version": 3
   },
   "file_extension": ".py",
   "mimetype": "text/x-python",
   "name": "python",
   "nbconvert_exporter": "python",
   "pygments_lexer": "ipython3",
   "version": "3.6.0"
  }
 },
 "nbformat": 4,
 "nbformat_minor": 2
}
