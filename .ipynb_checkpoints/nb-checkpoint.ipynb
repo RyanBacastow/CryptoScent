{
 "cells": [
  {
   "cell_type": "code",
   "execution_count": 7,
   "metadata": {
    "collapsed": false
   },
   "outputs": [
    {
     "name": "stdout",
     "output_type": "stream",
     "text": [
      "What words would you like to search for?\n",
      "litecoin\n",
      "How many days of tweets would you like, counting backwards from today?\n",
      "(1 = just today. 2 = yesterday and today, etc.)\n",
      "1\n",
      "How many tweets would you like me to filter through?\n",
      "100\n",
      "2017-12-10 23:56:26.312721\n",
      "litecoin%20since%3A2017-12-10\n",
      "Working on it...\n",
      "Reading from file:\n",
      "\n",
      "/nb'A lot of people seem to underestimate #Litecoin before you know it, $ltc will be $500 and it will happen fast. Currently the most undervalued coin in the entire crypto market!'b'Dang, I cant do it until my money goes through. Since I used my bank account I wont have the litecoin until Dec. 16th :('b'the $$$$ is in litecoin'b'Current strategy. Waiting for an impulsive Bitcoin jump to 20k before next futures market opens. Move into LTC for that mirror in gainz then cash out into the sunset until BTC stabilizes or dips. #Bitcoin #Litecoin #cryptocurrency'b'\\xe2\\x80\\x9cIt will be the year we see salaries and rent paid in LTC, coffee, clothes and cars bought with LTC. By the end of 2018, we expect to see it start to making headlines for outperforming whole economies just like BTC has. Let\\xe2\\x80\\x99s get behind Litecoin.\\xe2\\x80\\x9d\\xe2\\x80\\x8a\\xe2\\x80\\x94\\xe2\\x80\\x8a@hanzholdinworth'b'Sell the bitcoin to bank then buy $10 worth of litecoin with it'b'as much as I would live to see Litecoin soar to the moon, promising the gains of bitcoin this early in the game seems a little off. We\\xe2\\x80\\x99re only going to gain investors into the space that will panic dump the coins if we ever see a correction along the way. Thus, preventing growth.'b'Maybe, my prediction is for 6 am'b'Abouta hit the litecoin wave'b'BTC will be always bigger for me, but i expect 1/4 BTC for LTC'b'Target 1 smashed.'b'Oh, Look that guy become millionaire buy holding Litecoin https://twitter.com/BTC4USD/status/901849994503835648\\xc2\\xa0\\xe2\\x80\\xa6'b'1 Bitcoin = 35 Litecoin pic.twitter.com/km5kJnCLZT'b\"Tired of the high fees of #Bitcoin? #NewYorkCoin has NO NETWORK FEES and blocks EVERY 30 SECONDS! \\n\\n#NYC has a proven blockchain since 2014. \\n\\n5x faster than #Litecoin.\\n\\nCoinomi adding #NYC this month! NYC ATM's coming to all 5 boroughs in January!\\n\\nhttp://nycoin.net\\xc2\\xa0pic.twitter.com/E7qe9MVz5f\"b'LITECOIN TURN NOW!!! WEEEEEE GO LTC!!! \\n#LTC'b'Hmm 1.0 litecoin'b'Makes your nightshift slightly better when you see movement in #litecoin #LTC'b'Chillin sippin at a bar and grill watching my litecoin skyrocket make money while you sleep is the key. Work less make more. #litecoin'b'You all know we are having fun right now.pic.twitter.com/atV9bQUi9g'b'.05 litecoin and 2 bitcoins'b\"My strategy also, except I've taken the safe road and am already back in with #litecoin Don't miss the jump \"b'#litecoin worth watching again. pic.twitter.com/FxdyyQWJ2x'b'More or less 6 am , we will probably 180$+https://twitter.com/LitecoinPower/status/940054183331246081\\xc2\\xa0\\xe2\\x80\\xa6'b'#ltc #litecoin taking off!!! $$$$ buy yours NOW'b'Just bought some litecoin #ltc #Cryptocurrency #btc #Investment'b'Bitcoin, ETH, or LiteCoin, Which one do I invest in???? 'b'@Cryptomind3d thanks for the follow and remember to coin #coinbase #litecoin #ethereum #bitcoin'b'$4k'b'$200 #Litecoin #LTC here we come!'b'#LITECOIN I\\xe2\\x80\\x99m increasing my weekly target to $500 $LTC #LTC'b'Want to be the next BEST Bitcoin Trader?\\nYou can start here \\xe2\\x96\\xbahttp://bit.ly/2ADQxIx\\xc2\\xa0\\n#cryptocurrency #Crypto #Cryptocurreny #bitcoin #BitcoinGold #Ethereum #EthereumClassic #Litecoin pic.twitter.com/tmsht9GIPZ'b'?'b'Bears Rekt on LTC/BTC major breakout about to happen.pic.twitter.com/Va5NylhQSS'b'Giving my 2018 opinion friend'b'$req is something that is ready to launch in $ dollars   #bitcoin #litecoin @SatoshiLite'b'Send $200 in litecoin just because.\\n\\nLYkKUqkb4RYV5aXKEPgRSpHnV8JnqcFXLz pic.twitter.com/OTcG07SiMr'b\"Litecoin has grown faster though in the past 12 months. It's just that bitcoin has more value. If I had a loose $200 I'd buy a litecoin\"b'pls keep this up litecoin 'b'Nerden \\xc3\\xa7\\xc4\\xb1kt\\xc4\\xb1 bu davetiye kodu @Digilira  #Bitcoin #Ethereum #Wawes #Litecoin #Blockchain'b'Keaton Jones!! I\\xe2\\x80\\x99m thinking about making a trip to Knoxville!https://twitter.com/6billionpeople/status/939723472636469249\\xc2\\xa0\\xe2\\x80\\xa6'\n"
     ]
    }
   ],
   "source": [
    "from twitterscraper import query_tweets\n",
    "import datetime\n",
    "def main():\n",
    "    keyword = input(\"What words would you like to search for?\\n\")\n",
    "    days= int(input(\"How many days of tweets would you like, counting backwards from today?\\n(1 = just today. 2 = yesterday and today, etc.)\\n\"))\n",
    "    number = int(input(\"How many tweets would you like me to filter through?\\n\"))\n",
    "    now = datetime.datetime.now()\n",
    "    print(now)\n",
    "    if days == 1:\n",
    "        date = \"%20since%3A{}-{}-{}\".format(now.year,now.month,now.day)\n",
    "        query = keyword + date\n",
    "        print(query)\n",
    "    else:\n",
    "        if int(now.day) - days < 0:\n",
    "            date = '%20since%3A{}-{}-{}%20until%3A{}-{}-{}'.format(now.year,now.month,str(int(now.day-1)),now.year,now.month,now.day)\n",
    "            query = keyword + date\n",
    "            print('query')\n",
    "        else:\n",
    "            print(\"Sorry I can't go back that far... yet.\")\n",
    "    print('Working on it...')\n",
    "    list_of_tweets = query_tweets(query, number)\n",
    "    file = open(\"tweet_json.txt\",\"w\")\n",
    "    for tweet in list_of_tweets:\n",
    "        if int(tweet.likes) > 1:\n",
    "            file.write(str(tweet.text.encode('utf-8')+'\\n'))\n",
    "        elif int(tweet.retweets) > 0:\n",
    "            file.write(str(tweet.text.encode('utf-8')+'\\n'))\n",
    "        elif int(tweet.replies) > 0:\n",
    "            file.write(str(tweet.text.encode('utf-8')+'\\n'))\n",
    "    file.close()\n",
    "    with open(\"tweet_json.txt\",\"r\") as f:\n",
    "        print(\"Reading from file:\\n\")\n",
    "        for line in f:\n",
    "            print(line)\n",
    "    \n",
    "if __name__ == \"__main__\":\n",
    "    main()\n"
   ]
  },
  {
   "cell_type": "code",
   "execution_count": null,
   "metadata": {
    "collapsed": true
   },
   "outputs": [],
   "source": []
  }
 ],
 "metadata": {
  "kernelspec": {
   "display_name": "Python 3",
   "language": "python",
   "name": "python3"
  },
  "language_info": {
   "codemirror_mode": {
    "name": "ipython",
    "version": 3
   },
   "file_extension": ".py",
   "mimetype": "text/x-python",
   "name": "python",
   "nbconvert_exporter": "python",
   "pygments_lexer": "ipython3",
   "version": "3.6.0"
  }
 },
 "nbformat": 4,
 "nbformat_minor": 2
}
