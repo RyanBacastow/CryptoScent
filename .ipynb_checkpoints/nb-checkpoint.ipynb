{
 "cells": [
  {
   "cell_type": "code",
   "execution_count": 15,
   "metadata": {
    "collapsed": false
   },
   "outputs": [
    {
     "name": "stdout",
     "output_type": "stream",
     "text": [
      "What words would you like to search for?\n",
      "bitcoin\n",
      "How many tweets would you like me to filter through?\n",
      "100\n",
      "How many days of tweets would you like, counting backwards from today?\n",
      "(1 = just today. 2 = yesterday and today, etc.)\n",
      "1\n",
      "Working on it...\n",
      "Reading from file:\n",
      "\n",
      "b'\\xe0\\xb9\\x80\\xe0\\xb8\\x9e\\xe0\\xb8\\xa3\\xe0\\xb8\\xb2\\xe0\\xb8\\xb0 Bitcoin Future \\xe0\\xb8\\x88\\xe0\\xb8\\xb0\\xe0\\xb9\\x80\\xe0\\xb8\\x9b\\xe0\\xb8\\xb4\\xe0\\xb8\\x94 \\xe0\\xb9\\x83\\xe0\\xb8\\x99 CBOE \\xe0\\xb9\\x83\\xe0\\xb8\\x99\\xe0\\xb8\\xa7\\xe0\\xb8\\xb1\\xe0\\xb8\\x99\\xe0\\xb8\\x99\\xe0\\xb8\\xb5\\xe0\\xb9\\x89 (\\xe0\\xb8\\x95\\xe0\\xb8\\xb2\\xe0\\xb8\\xa1\\xe0\\xb8\\x84\\xe0\\xb8\\xb2\\xe0\\xb8\\x94)'\n",
      "\n",
      "b'What the fuck is bitcoin'\n",
      "\n",
      "b'Bitcoin Futures Top $18,000, Soar 20% From Open - Halted for Second Time\\n\\nhttp://www.zerohedge.com/news/2017-12-10/cboe-website-crashes-futures-trading-begins-bitcoin-price-squeezed-10-higher\\xc2\\xa0\\xe2\\x80\\xa6pic.twitter.com/l72ZwwX2MJ'\n",
      "\n"
     ]
    }
   ],
   "source": [
    "from twitterscraper import query_tweets\n",
    "import datetime\n",
    "\n",
    "def main():\n",
    "    keyword = input(\"What words would you like to search for?\\n\")\n",
    "    number = int(input(\"How many tweets would you like me to filter through?\\n\"))\n",
    "    days= int(input(\"How many days of tweets would you like, counting backwards from today?\\n(1 = just today. 2 = yesterday and today, etc.)\\n\"))\n",
    "\n",
    "    now = datetime.datetime.now()\n",
    "    if days == 1:\n",
    "        date = \"%20since%3A{}-{}-{}\".format(now.year,now.month,now.day)\n",
    "        query = keyword + date\n",
    "    else:\n",
    "        if int(now.day) - days > 0:\n",
    "            date = '%20since%3A{}-{}-{}%20until%3A{}-{}-{}'.format(now.year,now.month,str(int(now.day-1)),now.year,now.month,now.day)\n",
    "            query = keyword + date\n",
    "        else:\n",
    "            print(\"Sorry I can't go back that far... yet.\")\n",
    "    print('Working on it...')\n",
    "    list_of_tweets = query_tweets(query, number)\n",
    "    file = open(\"tweet_json.txt\",\"w\")\n",
    "    for tweet in list_of_tweets:\n",
    "        if int(tweet.likes) > 1:\n",
    "            mystr = str(tweet.text.encode('utf-8'))\n",
    "            file.write(mystr + '\\n')\n",
    "        elif int(tweet.retweets) > 1:\n",
    "            mystr = str(tweet.text.encode('utf-8'))\n",
    "            file.write(mystr + '\\n')\n",
    "        elif int(tweet.replies) > 1:\n",
    "            mystr = str(tweet.text.encode('utf-8'))\n",
    "            file.write(mystr + '\\n')\n",
    "    file.close()\n",
    "    with open(\"tweet_json.txt\",\"r\") as f:\n",
    "        print(\"Reading from file:\\n\")\n",
    "        for line in f:\n",
    "            print(line)\n",
    "    \n",
    "if __name__ == \"__main__\":\n",
    "    main()"
   ]
  },
  {
   "cell_type": "code",
   "execution_count": 21,
   "metadata": {
    "collapsed": false
   },
   "outputs": [
    {
     "name": "stdout",
     "output_type": "stream",
     "text": [
      "What words would you like to search for?\n",
      "bitcoin\n",
      "How many tweets would you like me to filter through?\n",
      "250\n",
      "Name your output file.\n",
      "last\n",
      "Japanese Internet Giant GMO to pay its more than 4,700 Employees in Bitcoin\n",
      "http://ow.ly/WKGf30hcXU3  #Japanese #Bitcoin #Crypto #Blockchain #FinTech #Bitcoin #Tech \n",
      "\n",
      "Japanese Internet Giant GMO to pay its more than 4,700 Employees in Bitcoin\n",
      "http://ow.ly/WKGf30hcXU3  #Japanese #Bitcoin #Crypto #Blockchain #FinTech #Bitcoin #Tech \n",
      "\n",
      "IOTA's big sexy bull flag http://dlvr.it/Q5sTbv  #bitcoin $btcpic.twitter.com/pOVF9pvHUp \n",
      "\n",
      "This early #bitcoin millionaire is giving away a majority of his bitcoins to charities! #cryptocurrency #crypto https://pineapplefund.org/ pic.twitter.com/pVkZckSGCW \n",
      "\n",
      "\"หรือการคว่ำบาตรเกาหลีเหนือจะไม่ได้ผลเพราะอำนาจของสกุลเงิน #Bitcoin?\"\n",
      "\n",
      "จับเทรนด์ธุรกิจรอบโลกในรายการ #BizFEED\n",
      "ทุกวันจันทร์-ศุกร์ 08:35, 12:30 ทาง Voice TV 21pic.twitter.com/D0N2oBI3yJ \n",
      "\n",
      "What. Is. Going. On.\n",
      "#bitcoin #cryptocurrency $btc $eth $ltcpic.twitter.com/4D5t0jXBwO \n",
      "\n",
      "Tim invested into bitcoin and decided to treat us tonight. \n",
      "\n",
      "Start trading SBTC on @YobitExchange NOW!\n",
      "\n",
      "#superbitcoin #bitcoin #bitcointrading #SBTC\n",
      "https://yobit.net/en/trade/SBTC/BTC … \n",
      "\n",
      "Just hit a lick on Bitcoin, might fuck around and buy a napkin \n",
      "\n",
      "@KeiserReport ?? #Bitcoin ;) https://twitter.com/dna/status/941133039987449856 … \n",
      "\n",
      "Bitcoin bull Ronnie Moas: Good luck to anyone shorting bitcoin\n",
      "https://www.bnn.ca/video/bitcoin-bull-ronnie-moas-good-luck-to-anyone-shorting-bitcoin~1282204 … \n",
      "\n",
      "$XRP impulse. @BITCOIN_panypic.twitter.com/MSQyOvpGnD \n",
      "\n",
      "Me: \"should we invest in bitcoin??\" Diego: \"no babe, it's a bubble.\" wow this is why I date an econ major \n",
      "\n",
      "Tea, they’re up to their swamp creature gills in rubles and bitcoin.  If you think they are going without a fight you’ve underestimated our enemy. We will be taking this to the streets before it’s done. \n",
      "\n",
      "Man Allegedly Kidnaps Friend at Gunpoint and Steals $1.8m of Cryptocurrency https://goo.gl/fb/wTyJLJ  #bitcoin \n",
      "\n"
     ]
    }
   ],
   "source": [
    "import os\n",
    "import codecs\n",
    "import json\n",
    "from twitterscraper import query_tweets\n",
    "from twitterscraper.query import query_all_tweets\n",
    "import pandas as pd\n",
    "import numpy as np\n",
    "\n",
    "df = pd.DataFrame()\n",
    "\n",
    "def main():\n",
    "    keyword = input(\"What words would you like to search for?\\n\")\n",
    "    number = int(input(\"How many tweets would you like me to filter through?\\n\"))\n",
    "    fname = input(\"Name your output file.\\n\")\n",
    "    fname = fname + '.json'\n",
    "    query = 'twitterscraper {} -l {} -o {}'.format(keyword, number,fname)\n",
    "    os.system(query)\n",
    "    with codecs.open(fname,'r','utf-8') as f:\n",
    "        tweets = json.load(f, encoding='utf-8')\n",
    "        for tweet in tweets:\n",
    "            if int(tweet['likes'])> 1 or int(tweet['retweets']) > 1:\n",
    "                print(tweet['text'],'\\n')\n",
    "        df.append([tweet['text']])\n",
    "        \n",
    "if __name__ == '__main__':\n",
    "    main()"
   ]
  },
  {
   "cell_type": "code",
   "execution_count": 22,
   "metadata": {
    "collapsed": false
   },
   "outputs": [
    {
     "data": {
      "text/html": [
       "<div>\n",
       "<table border=\"1\" class=\"dataframe\">\n",
       "  <thead>\n",
       "    <tr style=\"text-align: right;\">\n",
       "      <th></th>\n",
       "    </tr>\n",
       "  </thead>\n",
       "  <tbody>\n",
       "  </tbody>\n",
       "</table>\n",
       "</div>"
      ],
      "text/plain": [
       "Empty DataFrame\n",
       "Columns: []\n",
       "Index: []"
      ]
     },
     "execution_count": 22,
     "metadata": {},
     "output_type": "execute_result"
    }
   ],
   "source": [
    "df"
   ]
  },
  {
   "cell_type": "code",
   "execution_count": null,
   "metadata": {
    "collapsed": true
   },
   "outputs": [],
   "source": []
  }
 ],
 "metadata": {
  "kernelspec": {
   "display_name": "Python 3",
   "language": "python",
   "name": "python3"
  },
  "language_info": {
   "codemirror_mode": {
    "name": "ipython",
    "version": 3
   },
   "file_extension": ".py",
   "mimetype": "text/x-python",
   "name": "python",
   "nbconvert_exporter": "python",
   "pygments_lexer": "ipython3",
   "version": "3.6.0"
  }
 },
 "nbformat": 4,
 "nbformat_minor": 2
}
